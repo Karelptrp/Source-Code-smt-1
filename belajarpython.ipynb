{
 "cells": [
  {
   "cell_type": "code",
   "execution_count": 1,
   "id": "ce66ffd5",
   "metadata": {},
   "outputs": [
    {
     "name": "stdout",
     "output_type": "stream",
     "text": [
      "1. Penyajian Himpunan:\n",
      "Himpunan angka: {1, 2, 3, 4, 5}\n",
      "Himpunan huruf: {'b', 'a', 'c'}\n",
      "\n"
     ]
    }
   ],
   "source": [
    "print(\"1. Penyajian Himpunan:\")\n",
    "himpunan_angka = {1, 2, 3, 4, 5}\n",
    "himpunan_huruf = {'a', 'b', 'c'}\n",
    "print(f\"Himpunan angka: {himpunan_angka}\")\n",
    "print(f\"Himpunan huruf: {himpunan_huruf}\\n\")\n"
   ]
  },
  {
   "cell_type": "code",
   "execution_count": 10,
   "id": "73337da3",
   "metadata": {},
   "outputs": [
    {
     "name": "stdout",
     "output_type": "stream",
     "text": [
      "A = {x | x^2 = 4, x ganjil}\n",
      "A = set()\n",
      "Apakah A himpunan kosong? True\n",
      "A = ∅\n"
     ]
    }
   ],
   "source": [
    "def cari_x_kuadrat_4_ganjil():\n",
    "    kandidat = []\n",
    "    akar = [-2, 2]\n",
    "    for x in akar:\n",
    "        if x % 2 != 0: \n",
    "            kandidat.append(x)\n",
    "    \n",
    "    return set(kandidat) \n",
    "A = cari_x_kuadrat_4_ganjil()\n",
    "print(f\"A = {{x | x^2 = 4, x ganjil}}\")\n",
    "print(f\"A = {A}\")\n",
    "print(f\"Apakah A himpunan kosong? {len(A) == 0}\")\n",
    "print(f\"A = ∅\")"
   ]
  },
  {
   "cell_type": "code",
   "execution_count": 14,
   "id": "578bef92",
   "metadata": {},
   "outputs": [
    {
     "name": "stdout",
     "output_type": "stream",
     "text": [
      "B = {x | x^2 > 4, x ∈ Z, -3 ≤ x ≤ 3}\n",
      "B = {3, -3}\n",
      "Apakah B himpunan kosong? False\n",
      "Jumlah elemen B: 2\n"
     ]
    }
   ],
   "source": [
    "def cari_x_kuadrat_lebih_dari_4():\n",
    "    kandidat = []\n",
    "    for x in range(-3, 4):\n",
    "        if x**2 > 4:\n",
    "            kandidat.append(x)\n",
    "    return set(kandidat)\n",
    "B = cari_x_kuadrat_lebih_dari_4()\n",
    "print(f\"B = {{x | x^2 > 4, x ∈ Z, -3 ≤ x ≤ 3}}\")\n",
    "print(f\"B = {B}\")\n",
    "print(f\"Apakah B himpunan kosong? {len(B) == 0}\")\n",
    "print(f\"Jumlah elemen B: {len(B)}\")"
   ]
  },
  {
   "cell_type": "code",
   "execution_count": null,
   "id": "fffee4fa",
   "metadata": {},
   "outputs": [
    {
     "name": "stdout",
     "output_type": "stream",
     "text": [
      "Himpunan Universal U = {0, 1, 2, 3, 4, 5, -1, -5, -4, -3, -2}\n",
      "Himpunan A (bilangan positif) = {1, 2, 3, 4, 5}\n",
      "Himpunan B (bilangan genap) = {0, 2, 4, -4, -2}\n",
      "\n",
      "Komplemen A = {0, -2, -5, -4, -3, -1}\n",
      "Komplemen B = {1, 3, 5, -5, -3, -1}\n",
      "\n",
      "A ∩ B (irisan) = {2, 4}\n",
      "A ∪ B (gabungan) = {0, 1, 2, 3, 4, 5, -4, -2}\n",
      "\n",
      "Apakah A ⊆ U? True\n",
      "Apakah B ⊆ U? True\n"
     ]
    }
   ],
   "source": [
    "def definisi_himpunan_universal():\n",
    "    U = set(range(-5, 6))\n",
    "    A = {x for x in U if x > 0}\n",
    "    B = {x for x in U if x % 2 == 0}\n",
    "    \n",
    "    print(f\"Himpunan Universal U = {U}\")\n",
    "    print(f\"Himpunan A (bilangan positif) = {A}\")\n",
    "    print(f\"Himpunan B (bilangan genap) = {B}\")\n",
    "\n",
    "    print(f\"\\nKomplemen A = {U - A}\")\n",
    "    print(f\"Komplemen B = {U - B}\")\n",
    "    print(f\"\\nA ∩ B (irisan) = {A.intersection(B)}\")\n",
    "    print(f\"A ∪ B (gabungan) = {A.union(B)}\")\n",
    "    \n",
    "    print(f\"\\nApakah A ⊆ U? {A.issubset(U)}\")\n",
    "    print(f\"Apakah B ⊆ U? {B.issubset(U)}\")\n",
    "definisi_himpunan_universal()"
   ]
  },
  {
   "cell_type": "code",
   "execution_count": 16,
   "id": "785983ea",
   "metadata": {},
   "outputs": [
    {
     "name": "stdout",
     "output_type": "stream",
     "text": [
      "Himpunan yang ada:\n",
      "A = {1, 2, 3, 4, 5}\n",
      "B = {1, 2, 3}\n",
      "C = {2, 4, 6}\n",
      "D = {1, 2}\n",
      "\n",
      "Hubungan subset (⊆):\n",
      "Apakah B ⊆ A? True\n",
      "Apakah C ⊆ A? False\n",
      "Apakah D ⊆ B? True\n",
      "\n",
      "Hubungan proper subset (⊂):\n",
      "Apakah D ⊂ B? True\n",
      "Apakah B ⊂ B? False\n",
      "\n",
      "Hubungan superset (⊇):\n",
      "Apakah A ⊇ B? True\n",
      "Apakah B ⊇ D? True\n"
     ]
    }
   ],
   "source": [
    "def demonstrasi_himpunan_bagian():\n",
    "    A = {1, 2, 3, 4, 5}\n",
    "    B = {1, 2, 3}\n",
    "    C = {2, 4, 6}\n",
    "    D = {1, 2}\n",
    "    \n",
    "    print(\"Himpunan yang ada:\")\n",
    "    print(f\"A = {A}\")\n",
    "    print(f\"B = {B}\")\n",
    "    print(f\"C = {C}\")\n",
    "    print(f\"D = {D}\\n\")\n",
    "    print(\"Hubungan subset (⊆):\")\n",
    "    print(f\"Apakah B ⊆ A? {B.issubset(A)}\")  \n",
    "    print(f\"Apakah C ⊆ A? {C.issubset(A)}\")  \n",
    "    print(f\"Apakah D ⊆ B? {D.issubset(B)}\") \n",
    "    print(\"\\nHubungan proper subset (⊂):\")\n",
    "    print(f\"Apakah D ⊂ B? {D.issubset(B) and D != B}\")  \n",
    "    print(f\"Apakah B ⊂ B? {B.issubset(B) and B != B}\") \n",
    "    \n",
    "    print(\"\\nHubungan superset (⊇):\")\n",
    "    print(f\"Apakah A ⊇ B? {A.issuperset(B)}\") \n",
    "    print(f\"Apakah B ⊇ D? {B.issuperset(D)}\") \n",
    "demonstrasi_himpunan_bagian()"
   ]
  },
  {
   "cell_type": "code",
   "execution_count": null,
   "id": "0a094d4c",
   "metadata": {},
   "outputs": [],
   "source": [
    "def demonstrasi_fungsi():\n",
    "    # Mendefinisikan domain dan kodomain\n",
    "    X = {1, 2, 3, 4}  # Domain\n",
    "    Y = {1, 4, 9, 16}  # Kodomain\n",
    "    \n",
    "    print(\"1. Fungsi Kuadrat f(x) = x²\")\n",
    "    print(f\"Domain (X) = {X}\")\n",
    "    print(f\"Kodomain (Y) = {Y}\")\n",
    "    \n",
    "    # Implementasi fungsi kuadrat\n",
    "    def f(x): return x**2\n",
    "    \n",
    "    # Menampilkan pemetaan\n",
    "    print(\"\\nPemetaan:\")\n",
    "    for x in X:\n",
    "        print(f\"f({x}) = {f(x)}\")\n",
    "    \n",
    "    # Mencari range (hasil pemetaan)\n",
    "    range_f = {f(x) for x in X}\n",
    "    print(f\"\\nRange = {range_f}\")\n",
    "    \n",
    "    # Memeriksa sifat fungsi\n",
    "    def is_function_one_to_one():\n",
    "        # Memeriksa apakah setiap elemen memiliki hasil yang berbeda\n",
    "        return len({f(x) for x in X}) == len(X)\n",
    "    \n",
    "    def is_function_onto():\n",
    "        # Memeriksa apakah semua elemen kodomain terpetakan\n",
    "        return range_f == Y\n",
    "    \n",
    "    print(\"\\n2. Sifat Fungsi:\")\n",
    "    print(f\"Apakah fungsi ini one-to-one (injektif)? {is_function_one_to_one()}\")\n",
    "    print(f\"Apakah fungsi ini onto (surjektif)? {is_function_onto()}\")\n",
    "    print(f\"Apakah fungsi ini bijektif? {is_function_one_to_one() and is_function_onto()}\")\n",
    "    \n",
    "    # Contoh komposisi fungsi\n",
    "    print(\"\\n3. Komposisi Fungsi g∘f dimana g(x) = √x\")\n",
    "    def g(x): return x**0.5\n",
    "    \n",
    "    print(\"(g∘f)(x) = g(f(x)):\")\n",
    "    for x in X:\n",
    "        gf = g(f(x))\n",
    "        print(f\"(g∘f)({x}) = g({f(x)}) = {gf}\")\n",
    "\n",
    "# Menjalankan demonstrasi\n",
    "demonstrasi_fungsi()"
   ]
  },
  {
   "cell_type": "code",
   "execution_count": null,
   "id": "78d724bb",
   "metadata": {},
   "outputs": [],
   "source": [
    "def demonstrasi_fungsi_injektif():\n",
    "    \"\"\"\n",
    "    Studi kasus: Fungsi f(x) = 2x + 1\n",
    "    Memeriksa apakah fungsi linear ini injektif\n",
    "    \"\"\"\n",
    "    # Domain dan Kodomain\n",
    "    X = {0, 1, 2, 3}  # Domain\n",
    "    \n",
    "    def f(x): \n",
    "        return 2*x + 1\n",
    "    \n",
    "    print(\"Studi Kasus: Fungsi f(x) = 2x + 1\")\n",
    "    print(f\"Domain = {X}\")\n",
    "    \n",
    "    # Menampilkan pemetaan\n",
    "    print(\"\\nPemetaan:\")\n",
    "    hasil_pemetaan = {}\n",
    "    for x in X:\n",
    "        hasil = f(x)\n",
    "        hasil_pemetaan[x] = hasil\n",
    "        print(f\"f({x}) = {hasil}\")\n",
    "    \n",
    "    # Memeriksa sifat injektif\n",
    "    def is_injective():\n",
    "        hasil_fungsi = [f(x) for x in X]\n",
    "        return len(set(hasil_fungsi)) == len(X)\n",
    "    \n",
    "    # Menampilkan hasil analisis\n",
    "    print(\"\\nAnalisis Sifat Injektif:\")\n",
    "    print(\"1. Setiap elemen codomain harus berasal dari maksimal satu elemen domain\")\n",
    "    print(\"2. Tidak boleh ada dua input yang menghasilkan output yang sama\")\n",
    "    print(f\"\\nApakah fungsi ini injektif? {is_injective()}\")\n",
    "    \n",
    "    if is_injective():\n",
    "        print(\"\\nPenjelasan: Fungsi ini injektif karena:\")\n",
    "        print(\"- f(0) = 1\")\n",
    "        print(\"- f(1) = 3\")\n",
    "        print(\"- f(2) = 5\")\n",
    "        print(\"- f(3) = 7\")\n",
    "        print(\"Setiap input menghasilkan output yang berbeda\")\n",
    "    else:\n",
    "        print(\"\\nPenjelasan: Fungsi ini tidak injektif karena ada output yang sama\")\n",
    "\n",
    "# Soal Latihan\n",
    "print(\"\\nSoal Latihan:\")\n",
    "print(\"Diberikan fungsi g(x) = x² dengan domain {-2, -1, 0, 1, 2}\")\n",
    "print(\"Apakah fungsi tersebut injektif? Buktikan!\")\n",
    "\n",
    "# Menjalankan demonstrasi\n",
    "demonstrasi_fungsi_injektif()"
   ]
  }
 ],
 "metadata": {
  "kernelspec": {
   "display_name": "base",
   "language": "python",
   "name": "python3"
  },
  "language_info": {
   "codemirror_mode": {
    "name": "ipython",
    "version": 3
   },
   "file_extension": ".py",
   "mimetype": "text/x-python",
   "name": "python",
   "nbconvert_exporter": "python",
   "pygments_lexer": "ipython3",
   "version": "3.13.5"
  }
 },
 "nbformat": 4,
 "nbformat_minor": 5
}
