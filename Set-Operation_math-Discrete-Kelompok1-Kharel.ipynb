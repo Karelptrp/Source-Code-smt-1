{
 "cells": [
  {
   "cell_type": "code",
   "execution_count": 1,
   "id": "4bd4684c",
   "metadata": {},
   "outputs": [
    {
     "name": "stdout",
     "output_type": "stream",
     "text": [
      "1. Penyajian Himpunan:\n",
      "Himpunan angka: {1, 2, 3, 4, 5}\n",
      "Himpunan huruf: {'c', 'a', 'b'}\n",
      "\n",
      "2. Himpunan Kosong:\n",
      "Himpunan kosong: set()\n",
      "\n",
      "3. Himpunan Tak Kosong:\n",
      "Himpunan tak kosong: {1, 2, 3}\n",
      "\n",
      "4. Himpunan Universal:\n",
      "Himpunan Universal: {1, 2, 3, 4, 5, 6, 7, 8, 9, 10}\n",
      "Himpunan A: {1, 2, 3, 4, 5}\n",
      "Himpunan B: {4, 5, 6, 7}\n",
      "\n",
      "5. Operasi Himpunan:\n",
      "A ∪ B: {1, 2, 3, 4, 5, 6, 7}\n",
      "A ∩ B: {4, 5}\n",
      "A - B: {1, 2, 3}\n",
      "B - A: {6, 7}\n",
      "A Δ B: {1, 2, 3, 6, 7}\n",
      "\n",
      "6. Himpunan Bagian:\n",
      "C adalah subset dari A?: True\n",
      "A adalah superset dari C?: True\n",
      "\n",
      "7. Komplemen:\n",
      "Komplemen A: {6, 7, 8, 9, 10}\n",
      "Komplemen B: {1, 2, 3, 8, 9, 10}\n"
     ]
    }
   ],
   "source": [
    "# 1. Penyajian Himpunan\n",
    "print(\"1. Penyajian Himpunan:\")\n",
    "himpunan_angka = {1, 2, 3, 4, 5}\n",
    "himpunan_huruf = {'a', 'b', 'c'}\n",
    "print(f\"Himpunan angka: {himpunan_angka}\")\n",
    "print(f\"Himpunan huruf: {himpunan_huruf}\\n\")\n",
    "\n",
    "# 2. Himpunan Kosong\n",
    "print(\"2. Himpunan Kosong:\")\n",
    "himpunan_kosong1 = set()\n",
    "himpunan_kosong2 = {}  # ini sebenarnya dictionary, bukan set\n",
    "print(f\"Himpunan kosong: {himpunan_kosong1}\\n\")\n",
    "\n",
    "# 3. Himpunan Tak Kosong\n",
    "print(\"3. Himpunan Tak Kosong:\")\n",
    "himpunan_tak_kosong = {1, 2, 3}\n",
    "print(f\"Himpunan tak kosong: {himpunan_tak_kosong}\\n\")\n",
    "\n",
    "# 4. Himpunan Universal/Semesta\n",
    "print(\"4. Himpunan Universal:\")\n",
    "U = {1, 2, 3, 4, 5, 6, 7, 8, 9, 10}\n",
    "A = {1, 2, 3, 4, 5}\n",
    "B = {4, 5, 6, 7}\n",
    "print(f\"Himpunan Universal: {U}\")\n",
    "print(f\"Himpunan A: {A}\")\n",
    "print(f\"Himpunan B: {B}\\n\")\n",
    "\n",
    "# 5. Operasi Himpunan\n",
    "print(\"5. Operasi Himpunan:\")\n",
    "# Union (Gabungan)\n",
    "print(f\"A ∪ B: {A.union(B)}\")\n",
    "\n",
    "# Intersection (Irisan)\n",
    "print(f\"A ∩ B: {A.intersection(B)}\")\n",
    "\n",
    "# Difference (Selisih)\n",
    "print(f\"A - B: {A.difference(B)}\")\n",
    "print(f\"B - A: {B.difference(A)}\")\n",
    "\n",
    "# Symmetric Difference (Selisih Simetris)\n",
    "print(f\"A Δ B: {A.symmetric_difference(B)}\")\n",
    "\n",
    "# 6. Himpunan Bagian\n",
    "print(\"\\n6. Himpunan Bagian:\")\n",
    "C = {1, 2}\n",
    "print(f\"C adalah subset dari A?: {C.issubset(A)}\")\n",
    "print(f\"A adalah superset dari C?: {A.issuperset(C)}\")\n",
    "\n",
    "# 7. Complement (Komplemen)\n",
    "print(\"\\n7. Komplemen:\")\n",
    "print(f\"Komplemen A: {U.difference(A)}\")\n",
    "print(f\"Komplemen B: {U.difference(B)}\")"
   ]
  },
  {
   "cell_type": "code",
   "execution_count": null,
   "id": "cc5bb2b0",
   "metadata": {},
   "outputs": [
    {
     "name": "stdout",
     "output_type": "stream",
     "text": [
      "{1, 2, 3}\n",
      "{1, 2, 3, 4, 5}\n"
     ]
    }
   ],
   "source": []
  }
 ],
 "metadata": {
  "kernelspec": {
   "display_name": "base",
   "language": "python",
   "name": "python3"
  },
  "language_info": {
   "codemirror_mode": {
    "name": "ipython",
    "version": 3
   },
   "file_extension": ".py",
   "mimetype": "text/x-python",
   "name": "python",
   "nbconvert_exporter": "python",
   "pygments_lexer": "ipython3",
   "version": "3.13.5"
  }
 },
 "nbformat": 4,
 "nbformat_minor": 5
}
