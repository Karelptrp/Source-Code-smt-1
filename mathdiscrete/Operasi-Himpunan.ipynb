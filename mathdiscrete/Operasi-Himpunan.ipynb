{
 "cells": [
  {
   "cell_type": "code",
   "execution_count": 1,
   "id": "8a89480a",
   "metadata": {},
   "outputs": [
    {
     "name": "stdout",
     "output_type": "stream",
     "text": [
      "Himpunan awal:\n",
      "A = {1, 2, 3, 4, 5}\n",
      "B = {4, 5, 6, 7, 8}\n",
      "\n",
      "1. Union (Gabungan):\n",
      "A ∪ B = {1, 2, 3, 4, 5, 6, 7, 8}\n",
      "\n",
      "2. Intersection (Irisan):\n",
      "A ∩ B = {4, 5}\n",
      "\n",
      "3. Difference (Selisih):\n",
      "A - B = {1, 2, 3}\n",
      "B - A = {8, 6, 7}\n",
      "\n",
      "4. Symmetric Difference (Selisih Simetris):\n",
      "A Δ B = {1, 2, 3, 6, 7, 8}\n",
      "\n",
      "5. Cartesian Product (Perkalian Kartesian):\n",
      "A × B = {(3, 4), (3, 7), (5, 4), (4, 6), (5, 7), (1, 6), (2, 5), (2, 8), (4, 5), (5, 6), (4, 8), (3, 6), (2, 4), (2, 7), (1, 5), (1, 8), (4, 7), (3, 5), (4, 4), (3, 8), (5, 5), (5, 8), (1, 4), (1, 7), (2, 6)}\n",
      "\n",
      "6. Disjoint Check:\n",
      "Apakah A dan B saling lepas? False\n"
     ]
    }
   ],
   "source": [
    "def demonstrasi_operasi_himpunan():\n",
    "    A = {1, 2, 3, 4, 5}\n",
    "    B = {4, 5, 6, 7, 8}\n",
    "    print(\"Himpunan awal:\")\n",
    "    print(f\"A = {A}\")\n",
    "    print(f\"B = {B}\\n\")\n",
    "    \n",
    "    union = A.union(B)  \n",
    "    print(\"1. Union (Gabungan):\")\n",
    "    print(f\"A ∪ B = {union}\")\n",
    "    intersection = A.intersection(B)\n",
    "    print(\"\\n2. Intersection (Irisan):\")\n",
    "    print(f\"A ∩ B = {intersection}\")\n",
    "    diff_a_b = A.difference(B)  \n",
    "    diff_b_a = B.difference(A) \n",
    "    print(\"\\n3. Difference (Selisih):\")\n",
    "    print(f\"A - B = {diff_a_b}\")\n",
    "    print(f\"B - A = {diff_b_a}\")\n",
    "    sym_diff = A.symmetric_difference(B)  \n",
    "    print(\"\\n4. Symmetric Difference (Selisih Simetris):\")\n",
    "    print(f\"A Δ B = {sym_diff}\")\n",
    "    cartesian = {(x, y) for x in A for y in B}\n",
    "    print(\"\\n5. Cartesian Product (Perkalian Kartesian):\")\n",
    "    print(f\"A × B = {cartesian}\")\n",
    "    is_disjoint = A.isdisjoint(B)\n",
    "    print(\"\\n6. Disjoint Check:\")\n",
    "    print(f\"Apakah A dan B saling lepas? {is_disjoint}\")\n",
    "\n",
    "demonstrasi_operasi_himpunan()"
   ]
  }
 ],
 "metadata": {
  "kernelspec": {
   "display_name": "base",
   "language": "python",
   "name": "python3"
  },
  "language_info": {
   "codemirror_mode": {
    "name": "ipython",
    "version": 3
   },
   "file_extension": ".py",
   "mimetype": "text/x-python",
   "name": "python",
   "nbconvert_exporter": "python",
   "pygments_lexer": "ipython3",
   "version": "3.13.5"
  }
 },
 "nbformat": 4,
 "nbformat_minor": 5
}
