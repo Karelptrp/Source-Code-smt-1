{
 "cells": [
  {
   "cell_type": "code",
   "execution_count": 1,
   "id": "96d7d026",
   "metadata": {},
   "outputs": [
    {
     "name": "stdout",
     "output_type": "stream",
     "text": [
      "Analisis Kasus BBM dengan Hukum De Morgan\n",
      "Semua Aspek (U) = {'kandungan_ethanol', 'pembayaran_tepat', 'kualitas_standar', 'harga_sesuai', 'distribusi_lancar', 'infrastruktur_siap', 'volume_sesuai', 'transparansi', 'kontinuitas', 'base_fuel'}\n",
      "Kesepakatan Awal (A) = {'kualitas_standar', 'harga_sesuai', 'base_fuel', 'distribusi_lancar', 'volume_sesuai'}\n",
      "Aspek Bermasalah (B) = {'kandungan_ethanol', 'distribusi_lancar', 'kualitas_standar', 'volume_sesuai'}\n",
      "\n",
      "1. Hukum De Morgan Pertama: (A ∪ B)' = A' ∩ B'\n",
      "Aspek yang dibahas (A ∪ B) = {'kandungan_ethanol', 'kualitas_standar', 'harga_sesuai', 'distribusi_lancar', 'volume_sesuai', 'base_fuel'}\n",
      "Aspek yang belum dibahas (A ∪ B)' = {'transparansi', 'pembayaran_tepat', 'infrastruktur_siap', 'kontinuitas'}\n",
      "Irisan komplemen (A' ∩ B') = {'transparansi', 'pembayaran_tepat', 'infrastruktur_siap', 'kontinuitas'}\n",
      "Pembuktian De Morgan Pertama: True\n",
      "\n",
      "2. Hukum De Morgan Kedua: (A ∩ B)' = A' ∪ B'\n",
      "Aspek yang tumpang tindih (A ∩ B) = {'distribusi_lancar', 'kualitas_standar', 'volume_sesuai'}\n",
      "Aspek di luar tumpang tindih (A ∩ B)' = {'kandungan_ethanol', 'pembayaran_tepat', 'harga_sesuai', 'infrastruktur_siap', 'transparansi', 'kontinuitas', 'base_fuel'}\n",
      "Gabungan komplemen (A' ∪ B') = {'kandungan_ethanol', 'pembayaran_tepat', 'harga_sesuai', 'infrastruktur_siap', 'transparansi', 'kontinuitas', 'base_fuel'}\n",
      "Pembuktian De Morgan Kedua: True\n",
      "\n",
      "Analisis Kasus BBM:\n",
      "1. Aspek yang berubah dari kesepakatan: {'base_fuel', 'harga_sesuai'}\n",
      "2. Masalah baru yang muncul: {'kandungan_ethanol'}\n",
      "3. Aspek yang tetap konsisten: {'distribusi_lancar', 'kualitas_standar', 'volume_sesuai'}\n",
      "4. Aspek yang belum ditangani: {'transparansi', 'pembayaran_tepat', 'infrastruktur_siap', 'kontinuitas'}\n",
      "5. Persentase aspek yang sudah dibahas: 60.0%\n"
     ]
    }
   ],
   "source": [
    "def demonstrasi_de_morgan_bbm():\n",
    "    # Himpunan Semesta: Semua aspek kesepakatan BBM\n",
    "    U = {'base_fuel', 'kandungan_ethanol', 'harga_sesuai', 'volume_sesuai', \n",
    "         'kualitas_standar', 'distribusi_lancar', 'transparansi', 'kontinuitas',\n",
    "         'infrastruktur_siap', 'pembayaran_tepat'}\n",
    "    \n",
    "    # A: Aspek yang disepakati awal\n",
    "    A = {'base_fuel', 'harga_sesuai', 'volume_sesuai', 'kualitas_standar', 'distribusi_lancar'}\n",
    "    \n",
    "    # B: Aspek yang bermasalah setelah implementasi\n",
    "    B = {'kandungan_ethanol', 'volume_sesuai', 'kualitas_standar', 'distribusi_lancar'}\n",
    "    \n",
    "    print(\"Analisis Kasus BBM dengan Hukum De Morgan\")\n",
    "    print(f\"Semua Aspek (U) = {U}\")\n",
    "    print(f\"Kesepakatan Awal (A) = {A}\")\n",
    "    print(f\"Aspek Bermasalah (B) = {B}\\n\")\n",
    "    \n",
    "    # De Morgan Pertama: (A ∪ B)' = A' ∩ B'\n",
    "    print(\"1. Hukum De Morgan Pertama: (A ∪ B)' = A' ∩ B'\")\n",
    "    \n",
    "    gabungan = A.union(B)\n",
    "    komplemen_gabungan = U - gabungan\n",
    "    \n",
    "    komplemen_A = U - A\n",
    "    komplemen_B = U - B\n",
    "    irisan_komplemen = komplemen_A.intersection(komplemen_B)\n",
    "    \n",
    "    print(f\"Aspek yang dibahas (A ∪ B) = {gabungan}\")\n",
    "    print(f\"Aspek yang belum dibahas (A ∪ B)' = {komplemen_gabungan}\")\n",
    "    print(f\"Irisan komplemen (A' ∩ B') = {irisan_komplemen}\")\n",
    "    print(f\"Pembuktian De Morgan Pertama: {komplemen_gabungan == irisan_komplemen}\\n\")\n",
    "    \n",
    "    # De Morgan Kedua: (A ∩ B)' = A' ∪ B'\n",
    "    print(\"2. Hukum De Morgan Kedua: (A ∩ B)' = A' ∪ B'\")\n",
    "    \n",
    "    irisan = A.intersection(B)\n",
    "    komplemen_irisan = U - irisan\n",
    "    gabungan_komplemen = komplemen_A.union(komplemen_B)\n",
    "    \n",
    "    print(f\"Aspek yang tumpang tindih (A ∩ B) = {irisan}\")\n",
    "    print(f\"Aspek di luar tumpang tindih (A ∩ B)' = {komplemen_irisan}\")\n",
    "    print(f\"Gabungan komplemen (A' ∪ B') = {gabungan_komplemen}\")\n",
    "    print(f\"Pembuktian De Morgan Kedua: {komplemen_irisan == gabungan_komplemen}\\n\")\n",
    "    \n",
    "    # Analisis Kasus\n",
    "    print(\"Analisis Kasus BBM:\")\n",
    "    print(f\"1. Aspek yang berubah dari kesepakatan: {A - B}\")\n",
    "    print(f\"2. Masalah baru yang muncul: {B - A}\")\n",
    "    print(f\"3. Aspek yang tetap konsisten: {irisan}\")\n",
    "    print(f\"4. Aspek yang belum ditangani: {komplemen_gabungan}\")\n",
    "    print(f\"5. Persentase aspek yang sudah dibahas: {(len(gabungan)/len(U))*100:.1f}%\")\n",
    "\n",
    "# Menjalankan demonstrasi\n",
    "demonstrasi_de_morgan_bbm()"
   ]
  }
 ],
 "metadata": {
  "kernelspec": {
   "display_name": "base",
   "language": "python",
   "name": "python3"
  },
  "language_info": {
   "codemirror_mode": {
    "name": "ipython",
    "version": 3
   },
   "file_extension": ".py",
   "mimetype": "text/x-python",
   "name": "python",
   "nbconvert_exporter": "python",
   "pygments_lexer": "ipython3",
   "version": "3.13.5"
  }
 },
 "nbformat": 4,
 "nbformat_minor": 5
}
