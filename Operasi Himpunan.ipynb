{
 "cells": [
  {
   "cell_type": "code",
   "execution_count": 1,
   "id": "e4511002",
   "metadata": {},
   "outputs": [
    {
     "name": "stdout",
     "output_type": "stream",
     "text": [
      "Operasi Himpunan:\n",
      "A ∪ B: {1, 2, 3, 4, 5, 6, 7}\n",
      "A ∩ B: {4, 5}\n",
      "A - B: {1, 2, 3}\n",
      "B - A: {6, 7}\n",
      "A Δ B: {1, 2, 3, 6, 7}\n"
     ]
    }
   ],
   "source": [
    "U = {1, 2, 3, 4, 5, 6, 7, 8, 9, 10}\n",
    "A = {1, 2, 3, 4, 5}\n",
    "B = {4, 5, 6, 7}\n",
    "print(\"Operasi Himpunan:\")\n",
    "print(f\"A ∪ B: {A.union(B)}\")\n",
    "print(f\"A ∩ B: {A.intersection(B)}\")\n",
    "print(f\"A - B: {A.difference(B)}\")\n",
    "print(f\"B - A: {B.difference(A)}\")\n",
    "print(f\"A Δ B: {A.symmetric_difference(B)}\")"
   ]
  }
 ],
 "metadata": {
  "kernelspec": {
   "display_name": "base",
   "language": "python",
   "name": "python3"
  },
  "language_info": {
   "codemirror_mode": {
    "name": "ipython",
    "version": 3
   },
   "file_extension": ".py",
   "mimetype": "text/x-python",
   "name": "python",
   "nbconvert_exporter": "python",
   "pygments_lexer": "ipython3",
   "version": "3.13.5"
  }
 },
 "nbformat": 4,
 "nbformat_minor": 5
}
