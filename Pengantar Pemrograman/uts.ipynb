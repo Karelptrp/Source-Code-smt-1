{
 "cells": [
  {
   "cell_type": "code",
   "execution_count": null,
   "id": "4a924ccb",
   "metadata": {},
   "outputs": [],
   "source": [
    "\"\"\"\n",
    "Nama: Muhamad Kharel Putra Pradana\n",
    "NIM: 23090250017\n",
    "Saya menyatakan dengan ini bahwa kode yang saya tulis dalam ujian ini adalah\n",
    "hasil karya saya sendiri. Saya tidak menerima atau memberikan bantuan dalam\n",
    "bentuk apa pun selama ujian berlangsung.\n",
    "\"\"\"\n",
    "\n",
    "nim = \"23090250017\"  \n",
    "list_nim = []\n",
    "\n",
    "\n",
    "for digit in nim:\n",
    "    list_nim.append(int(digit))\n",
    "\n",
    "# 2. Cek Digit Terakhir\n",
    "digit_terakhir = list_nim[-1]\n",
    "status = \"Genap\" if digit_terakhir % 2 == 0 else \"Ganjil\"\n",
    "\n",
    "# 3. Fungsi Kalkulasi\n",
    "def kalkulasi_nim(list_nim):\n",
    "    # Jumlahkan semua digit\n",
    "    total = sum(list_nim)\n",
    "    # Kalikan dengan digit pertama\n",
    "    hasil = total * list_nim[0]\n",
    "    return hasil\n",
    "\n",
    "# 4. Tampilkan Hasil Akhir\n",
    "hasil_kalkulasi = kalkulasi_nim(list_nim)\n",
    "\n",
    "# 5. Format Output\n",
    "print(f\"Analisis untuk NIM {nim}: Status digit terakhir adalah {status}, \"\n",
    "      f\"dengan hasil kalkulasi {hasil_kalkulasi}.\")\n"
   ]
  }
 ],
 "metadata": {
  "language_info": {
   "name": "python"
  }
 },
 "nbformat": 4,
 "nbformat_minor": 5
}
