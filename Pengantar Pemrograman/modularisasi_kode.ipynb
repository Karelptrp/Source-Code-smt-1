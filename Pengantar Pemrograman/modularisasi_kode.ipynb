{
 "cells": [
  {
   "cell_type": "code",
   "execution_count": null,
   "id": "13930f2f",
   "metadata": {},
   "outputs": [],
   "source": [
    "import math\n",
    "\n",
    "\n",
    "def LuasRect(p, l):\n",
    "    return p * l\n",
    "\n",
    "\n",
    "def VolumeTabung(r, t):\n",
    "    return math.pi * r * r * t\n",
    "\n",
    "\n",
    "def opsi_perhitungan():\n",
    "    print(\"Pilih perhitungan yang diinginkan:\")\n",
    "    print(\"1. Hitung Luas Persegi Panjang\")\n",
    "    print(\"2. Hitung Volume Tabung\")\n",
    "\n",
    "    pilihan = input(\"Masukkan pilihan (1/2): \")\n",
    "\n",
    "    if pilihan == \"1\":\n",
    "        p = float(input(\"Masukkan panjang: \"))\n",
    "        l = float(input(\"Masukkan lebar: \"))\n",
    "        hasil = LuasRect(p, l)\n",
    "        print(f\"panjang dan lebar adalah: {p}, {l}\")\n",
    "        print(f\"Luas persegi panjang adalah: {hasil}\")\n",
    "    elif pilihan == \"2\":\n",
    "        r = float(input(\"Masukkan jari-jari: \"))\n",
    "        t = float(input(\"Masukkan tinggi: \"))\n",
    "        hasil = VolumeTabung(r, t)\n",
    "        print(f\"jari-jari dan tinggi adalah: {r}, {t}\")\n",
    "        print(f\"Volume tabung adalah: {hasil:.2f}\")\n",
    "    else:\n",
    "        print(\"Pilihan tidak valid!\")"
   ]
  },
  {
   "cell_type": "code",
   "execution_count": 8,
   "id": "3c86d8a5",
   "metadata": {},
   "outputs": [
    {
     "name": "stdout",
     "output_type": "stream",
     "text": [
      "Pilih perhitungan yang diinginkan:\n",
      "1. Hitung Luas Persegi Panjang\n",
      "2. Hitung Volume Tabung\n",
      "jari-jari dan tinggi adalah: 56.0, 73.0\n",
      "Volume tabung adalah: 719198.5230010041\n",
      "jari-jari dan tinggi adalah: 56.0, 73.0\n",
      "Volume tabung adalah: 719198.5230010041\n"
     ]
    }
   ],
   "source": [
    "opsi_perhitungan()"
   ]
  },
  {
   "cell_type": "code",
   "execution_count": 21,
   "id": "a0b5e6c9",
   "metadata": {},
   "outputs": [],
   "source": [
    "def rumus(p,l):\n",
    "    return p * l"
   ]
  },
  {
   "cell_type": "code",
   "execution_count": 22,
   "id": "b9e79bc9",
   "metadata": {},
   "outputs": [
    {
     "name": "stdout",
     "output_type": "stream",
     "text": [
      "12.0\n"
     ]
    }
   ],
   "source": [
    "hasil = rumus(\n",
    "\tp=float(input(\"Masukkan a: \")),\n",
    "\tl=float(input(\"Masukkan b: \"))\n",
    ")\n",
    "print(hasil)"
   ]
  }
 ],
 "metadata": {
  "kernelspec": {
   "display_name": "Python 3",
   "language": "python",
   "name": "python3"
  },
  "language_info": {
   "codemirror_mode": {
    "name": "ipython",
    "version": 3
   },
   "file_extension": ".py",
   "mimetype": "text/x-python",
   "name": "python",
   "nbconvert_exporter": "python",
   "pygments_lexer": "ipython3",
   "version": "3.13.5"
  }
 },
 "nbformat": 4,
 "nbformat_minor": 5
}
