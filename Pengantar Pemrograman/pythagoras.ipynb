{
 "cells": [
  {
   "cell_type": "code",
   "execution_count": null,
   "id": "b4bd616c",
   "metadata": {},
   "outputs": [],
   "source": [
    "print(\"pythagoras\")\n",
    "a = float(input(\"Masukkan a: \"))\n",
    "b = float(input(\"Masukkan b: \"))\n",
    "\n",
    "ap2 = a**2\n",
    "bp2 = b**2\n",
    "c = (ap2 + bp2)**0.5\n",
    "print(\"Nilai c adalah: \", c)\n"
   ]
  }
 ],
 "metadata": {
  "language_info": {
   "name": "python"
  }
 },
 "nbformat": 4,
 "nbformat_minor": 5
}
