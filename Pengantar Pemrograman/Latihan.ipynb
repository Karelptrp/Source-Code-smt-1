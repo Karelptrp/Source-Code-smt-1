{
 "cells": [
  {
   "cell_type": "code",
   "execution_count": 12,
   "id": "27482ca3",
   "metadata": {},
   "outputs": [
    {
     "name": "stdout",
     "output_type": "stream",
     "text": [
      "2\n"
     ]
    }
   ],
   "source": [
    "a=2\n",
    "A=\"variabel 2\" \n",
    "print(a)"
   ]
  },
  {
   "cell_type": "code",
   "execution_count": 29,
   "id": "c2b31168",
   "metadata": {},
   "outputs": [
    {
     "name": "stdout",
     "output_type": "stream",
     "text": [
      "Halo teman teman, perkenalkan nama saya Muhamad Kharel Putra Pradana saya biasa dipanggil karel, dan NIM saya adalah 23090250017\n",
      "Saya dari Bantar Gebang, Bekasi, Jawa Barat. Motivasi saya masuk kelas ini adalah ingin belajar pemrograman dan mendalami python\n"
     ]
    }
   ],
   "source": [
    "Nama=\"Muhamad Kharel Putra Pradana\"\n",
    "cn=\"karel,\"\n",
    "Nim=\"23090250017\"\n",
    "Alamat=\"Bantar Gebang, Bekasi, Jawa Barat.\"\n",
    "Mot=\"ingin belajar pemrograman dan mendalami python\"\n",
    "\n",
    "print(\"Halo teman teman, perkenalkan nama saya\",Nama, \"saya biasa dipanggil\",cn, \"dan NIM saya adalah\",Nim)\n",
    "print(\"Saya dari\",Alamat, \"Motivasi saya masuk kelas ini adalah\",Mot)"
   ]
  },
  {
   "cell_type": "code",
   "execution_count": 14,
   "id": "4434add5",
   "metadata": {},
   "outputs": [
    {
     "name": "stdout",
     "output_type": "stream",
     "text": [
      "a is greater than b\n"
     ]
    }
   ],
   "source": [
    "a = float(input(\"Masukkan nilai a: \"))\n",
    "b = float(input(\"Masukkan nilai b: \"))   \n",
    "\n",
    "if b > a:\n",
    "    print(\"b is greater than a\")\n",
    "elif a > b:\n",
    "    print(\"a is greater than b\")\n",
    "else:\n",
    "    print(\"a is equal to b\")"
   ]
  },
  {
   "cell_type": "code",
   "execution_count": null,
   "id": "ea6e58a8",
   "metadata": {},
   "outputs": [
    {
     "name": "stdout",
     "output_type": "stream",
     "text": [
      "Nilai di atas 10\n"
     ]
    }
   ],
   "source": [
    "x=int(input(\"Masukkan nilai x: \"))\n",
    "if x > 10:\n",
    "    print(\"Nilai di atas 10\")\n",
    "    if x >20:\n",
    "        print(\"Dan di atas 20\")\n",
    "else:\n",
    "    print(\"tapi tidak dok di atas 20\")"
   ]
  },
  {
   "cell_type": "code",
   "execution_count": null,
   "id": "81266fbd",
   "metadata": {},
   "outputs": [
    {
     "name": "stdout",
     "output_type": "stream",
     "text": [
      "E\n"
     ]
    }
   ],
   "source": [
    "Nilai = int(input(\"Masukkan nilai: \"))\n",
    "if Nilai >= 90:\n",
    "    print(\"A\")\n",
    "elif Nilai >= 80:\n",
    "    print(\"AB\")\n",
    "elif Nilai >= 70:\n",
    "    print(\"B\")\n",
    "elif Nilai >= 60:\n",
    "    print(\"BC\")\n",
    "elif Nilai >= 50:\n",
    "    print(\"C\")\n",
    "elif Nilai >= 40:\n",
    "    print(\"D\")\n",
    "elif Nilai >= 0:\n",
    "    print(\"E\")"
   ]
  }
 ],
 "metadata": {
  "kernelspec": {
   "display_name": "base",
   "language": "python",
   "name": "python3"
  },
  "language_info": {
   "codemirror_mode": {
    "name": "ipython",
    "version": 3
   },
   "file_extension": ".py",
   "mimetype": "text/x-python",
   "name": "python",
   "nbconvert_exporter": "python",
   "pygments_lexer": "ipython3",
   "version": "3.13.5"
  }
 },
 "nbformat": 4,
 "nbformat_minor": 5
}
