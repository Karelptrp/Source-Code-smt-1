{
 "cells": [
  {
   "cell_type": "code",
   "execution_count": 12,
   "id": "27482ca3",
   "metadata": {},
   "outputs": [
    {
     "name": "stdout",
     "output_type": "stream",
     "text": [
      "2\n"
     ]
    }
   ],
   "source": [
    "a=2\n",
    "A=\"variabel 2\" \n",
    "print(a)"
   ]
  },
  {
   "cell_type": "code",
   "execution_count": 29,
   "id": "c2b31168",
   "metadata": {},
   "outputs": [
    {
     "name": "stdout",
     "output_type": "stream",
     "text": [
      "Halo teman teman, perkenalkan nama saya Muhamad Kharel Putra Pradana saya biasa dipanggil karel, dan NIM saya adalah 23090250017\n",
      "Saya dari Bantar Gebang, Bekasi, Jawa Barat. Motivasi saya masuk kelas ini adalah ingin belajar pemrograman dan mendalami python\n"
     ]
    }
   ],
   "source": [
    "Nama=\"Muhamad Kharel Putra Pradana\"\n",
    "cn=\"karel,\"\n",
    "Nim=\"23090250017\"\n",
    "Alamat=\"Bantar Gebang, Bekasi, Jawa Barat.\"\n",
    "Mot=\"ingin belajar pemrograman dan mendalami python\"\n",
    "\n",
    "print(\"Halo teman teman, perkenalkan nama saya\",Nama, \"saya biasa dipanggil\",cn, \"dan NIM saya adalah\",Nim)\n",
    "print(\"Saya dari\",Alamat, \"Motivasi saya masuk kelas ini adalah\",Mot)"
   ]
  }
 ],
 "metadata": {
  "kernelspec": {
   "display_name": "base",
   "language": "python",
   "name": "python3"
  },
  "language_info": {
   "codemirror_mode": {
    "name": "ipython",
    "version": 3
   },
   "file_extension": ".py",
   "mimetype": "text/x-python",
   "name": "python",
   "nbconvert_exporter": "python",
   "pygments_lexer": "ipython3",
   "version": "3.13.5"
  }
 },
 "nbformat": 4,
 "nbformat_minor": 5
}
