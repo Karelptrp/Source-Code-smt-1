{
 "cells": [
  {
   "cell_type": "code",
   "execution_count": null,
   "id": "27482ca3",
   "metadata": {},
   "outputs": [],
   "source": [
    "a=2\n",
    "A=\"variabel 2\" \n",
    "print(a)"
   ]
  },
  {
   "cell_type": "code",
   "execution_count": null,
   "id": "c2b31168",
   "metadata": {},
   "outputs": [],
   "source": [
    "Nama=\"Muhamad Kharel Putra Pradana\"\n",
    "cn=\"karel,\"\n",
    "Nim=\"23090250017\"\n",
    "Alamat=\"Bantar Gebang, Bekasi, Jawa Barat.\"\n",
    "Mot=\"ingin belajar pemrograman dan mendalami python\"\n",
    "\n",
    "print(\"Halo teman teman, perkenalkan nama saya\",Nama, \"saya biasa dipanggil\",cn, \"dan NIM saya adalah\",Nim)\n",
    "print(\"Saya dari\",Alamat, \"Motivasi saya masuk kelas ini adalah\",Mot)"
   ]
  },
  {
   "cell_type": "code",
   "execution_count": null,
   "id": "4434add5",
   "metadata": {},
   "outputs": [],
   "source": [
    "a = float(input(\"Masukkan nilai a: \"))\n",
    "b = float(input(\"Masukkan nilai b: \"))   \n",
    "\n",
    "if b > a:\n",
    "    print(\"b is greater than a\")\n",
    "elif a > b:\n",
    "    print(\"a is greater than b\")\n",
    "else:\n",
    "    print(\"a is equal to b\")"
   ]
  },
  {
   "cell_type": "code",
   "execution_count": null,
   "id": "ea6e58a8",
   "metadata": {},
   "outputs": [],
   "source": [
    "x=int(input(\"Masukkan nilai x: \"))\n",
    "if x > 10:\n",
    "    print(\"Nilai di atas 10\")\n",
    "    if x >20:\n",
    "        print(\"Dan di atas 20\")\n",
    "else:\n",
    "    print(\"tapi tidak dok di atas 20\")"
   ]
  },
  {
   "cell_type": "code",
   "execution_count": null,
   "id": "32286beb",
   "metadata": {},
   "outputs": [],
   "source": [
    "print(\"Sains Data 25\")"
   ]
  },
  {
   "cell_type": "code",
   "execution_count": null,
   "id": "81266fbd",
   "metadata": {},
   "outputs": [],
   "source": [
    "Nama = str(input(\"Masukkan nama: \"))\n",
    "NIM = int(input(\"Masukkan NIM: \"))\n",
    "Nilai = float(input(\"Masukkan nilai: \"))\n",
    "if Nilai >= 90 and Nilai <= 100:\n",
    "    print(\"A\")\n",
    "elif Nilai >= 80 and Nilai <= 90:\n",
    "    print(\"AB\")\n",
    "elif Nilai >= 70 and Nilai <= 80:\n",
    "    print(\"B\")\n",
    "elif Nilai >= 60 and Nilai <= 70:\n",
    "    print(\"BC\")\n",
    "elif Nilai >= 50 and Nilai <= 60:\n",
    "    print(\"C\")\n",
    "elif Nilai >= 40 and Nilai <= 50:\n",
    "    print(\"D\")\n",
    "elif Nilai >= 30 and Nilai <= 40:\n",
    "    print(\"E\")\n",
    "elif Nilai >= 0 and Nilai <= 30:\n",
    "    print(\"F\")\n",
    "else:\n",
    "    print(\"Nilai Invalid\")\n",
    "if Nilai >= 100 and Nilai <= 0:\n",
    "    print(\"Gada nilai segitu jir kocak\")\n",
    "elif Nilai >= 60 and Nilai <= 100:\n",
    "    print(\"Selamat\",Nama,\"dengan NIM\",NIM,\"anda mendapatkan nilai\",Nilai, \"anda dinyatakan lulus\")\n",
    "elif Nilai >= 0 and Nilai < 60:\n",
    "    print(\"Maaf\",Nama,\"dengan NIM\",NIM,\"anda mendapatkan nilai\",Nilai, \"anda dinyatakan tidak lulus\")\n",
    "else:\n",
    "    print(\"Nilai Invalid bang\")"
   ]
  },
  {
   "cell_type": "code",
   "execution_count": null,
   "id": "8b2272e5",
   "metadata": {},
   "outputs": [],
   "source": [
    "a=2\n",
    "b=4\n",
    "\n",
    "print(\"Nilai a =\",a**2)\n",
    "print(b**3)"
   ]
  },
  {
   "cell_type": "code",
   "execution_count": 6,
   "id": "d3788a8e",
   "metadata": {},
   "outputs": [
    {
     "name": "stdout",
     "output_type": "stream",
     "text": [
      "1\n",
      "2\n",
      "4\n",
      "5\n",
      "6\n"
     ]
    }
   ],
   "source": [
    "i=0\n",
    "while i < 6:\n",
    "    i += 1\n",
    "    if i==3:\n",
    "        continue\n",
    "    print(i)"
   ]
  },
  {
   "cell_type": "code",
   "execution_count": 10,
   "id": "771f5a4d",
   "metadata": {},
   "outputs": [
    {
     "name": "stdout",
     "output_type": "stream",
     "text": [
      "2\n",
      "3\n",
      "4\n",
      "5\n"
     ]
    }
   ],
   "source": [
    "for x in range(2, 6):\n",
    "    print(x)"
   ]
  },
  {
   "cell_type": "code",
   "execution_count": 12,
   "id": "615396b4",
   "metadata": {},
   "outputs": [
    {
     "name": "stdout",
     "output_type": "stream",
     "text": [
      "red apple\n",
      "red banana\n",
      "red cherry\n",
      "red melon\n",
      "big apple\n",
      "big banana\n",
      "big cherry\n",
      "big melon\n",
      "tasty apple\n",
      "tasty banana\n",
      "tasty cherry\n",
      "tasty melon\n"
     ]
    }
   ],
   "source": [
    "adj = [\"red\", \"big\", \"tasty\"]\n",
    "fruits = [\"apple\", \"banana\", \"cherry\", \"melon\"]\n",
    "for x in adj:\n",
    "    for y in fruits:\n",
    "        print(x, y)"
   ]
  },
  {
   "cell_type": "code",
   "execution_count": 4,
   "id": "0c6e6b75",
   "metadata": {},
   "outputs": [
    {
     "name": "stdout",
     "output_type": "stream",
     "text": [
      "Hello python from a function\n"
     ]
    }
   ],
   "source": [
    "def my_function():\n",
    "    print(\"Hello python from a function\")\n",
    "my_function()"
   ]
  },
  {
   "cell_type": "code",
   "execution_count": 4,
   "id": "15024f67",
   "metadata": {},
   "outputs": [],
   "source": [
    "def nama_siswa(siswa1,siswa2):\n",
    "    print(siswa1+\" \"+siswa2)"
   ]
  },
  {
   "cell_type": "code",
   "execution_count": 5,
   "id": "18b74129",
   "metadata": {},
   "outputs": [
    {
     "name": "stdout",
     "output_type": "stream",
     "text": [
      "Azhril Elsa\n"
     ]
    }
   ],
   "source": [
    "nama_siswa(\"Azhril\",\"Elsa\")"
   ]
  },
  {
   "cell_type": "code",
   "execution_count": 11,
   "id": "a931dae5",
   "metadata": {},
   "outputs": [],
   "source": [
    "def name_siswa(*siswa):\n",
    "    print(siswa[0])"
   ]
  },
  {
   "cell_type": "code",
   "execution_count": 12,
   "id": "db79d132",
   "metadata": {},
   "outputs": [
    {
     "name": "stdout",
     "output_type": "stream",
     "text": [
      "Azhril\n"
     ]
    }
   ],
   "source": [
    "name_siswa(\"Azhril\",\"Elsa\",\"Budi\",\"Siti\")"
   ]
  },
  {
   "cell_type": "markdown",
   "id": "7a7b5247",
   "metadata": {},
   "source": [
    "0 keluar azhril karena start dari 0"
   ]
  },
  {
   "cell_type": "code",
   "execution_count": 17,
   "id": "bb4a887a",
   "metadata": {},
   "outputs": [],
   "source": [
    "def siswa_nama(siswa1,siswa2, siswa3, siswa4):\n",
    "    print(\"siswa nomor 1 adalah\",siswa1)\n",
    "    print(\"siswa nomor 2 adalah\",siswa2)\n",
    "    print(\"siswa nomor 2 adalah\",siswa3)\n",
    "    print(\"siswa nomor 4 adalah\",siswa4)"
   ]
  },
  {
   "cell_type": "code",
   "execution_count": 18,
   "id": "54fc6961",
   "metadata": {},
   "outputs": [
    {
     "name": "stdout",
     "output_type": "stream",
     "text": [
      "siswa nomor 1 adalah Elsa\n",
      "siswa nomor 2 adalah Budi\n",
      "siswa nomor 2 adalah Azhril\n",
      "siswa nomor 4 adalah Siti\n"
     ]
    }
   ],
   "source": [
    "siswa_nama(siswa3=\"Azhril\",siswa1=\"Elsa\",siswa2=\"Budi\",siswa4=\"Siti\")"
   ]
  },
  {
   "cell_type": "code",
   "execution_count": null,
   "id": "bf6b60de",
   "metadata": {},
   "outputs": [],
   "source": [
    "def penjumlahan(a,b):\n",
    "    hasil = a + b\n",
    "    print(hasil)"
   ]
  },
  {
   "cell_type": "code",
   "execution_count": 22,
   "id": "e881751f",
   "metadata": {},
   "outputs": [
    {
     "data": {
      "text/plain": [
       "897"
      ]
     },
     "execution_count": 22,
     "metadata": {},
     "output_type": "execute_result"
    }
   ],
   "source": [
    "penjumlahan(892, 5)"
   ]
  },
  {
   "cell_type": "code",
   "execution_count": 4,
   "id": "3042ac0f",
   "metadata": {},
   "outputs": [],
   "source": [
    "def penjumlahanR(a,b):\n",
    "    return a + b"
   ]
  },
  {
   "cell_type": "code",
   "execution_count": null,
   "id": "7b9161a3",
   "metadata": {},
   "outputs": [],
   "source": [
    "penjumlahanR(892, 5)"
   ]
  },
  {
   "cell_type": "code",
   "execution_count": null,
   "id": "b8f0d290",
   "metadata": {},
   "outputs": [],
   "source": [
    "def penjumlahanL(a,b):\n",
    "    hasil = a + b\n",
    "    print(hasil)\n",
    "    print"
   ]
  },
  {
   "cell_type": "code",
   "execution_count": 5,
   "id": "b57b72be",
   "metadata": {},
   "outputs": [
    {
     "data": {
      "text/plain": [
       "12"
      ]
     },
     "execution_count": 5,
     "metadata": {},
     "output_type": "execute_result"
    }
   ],
   "source": [
    "penjumlahanR(5,7)"
   ]
  },
  {
   "cell_type": "code",
   "execution_count": 3,
   "id": "3a8b1149",
   "metadata": {},
   "outputs": [
    {
     "name": "stdout",
     "output_type": "stream",
     "text": [
      "aku10\n"
     ]
    }
   ],
   "source": [
    "b = \"aku\"\n",
    "c = 10\n",
    "e = b + str(c)\n",
    "print(e)"
   ]
  }
 ],
 "metadata": {
  "kernelspec": {
   "display_name": "Python 3",
   "language": "python",
   "name": "python3"
  },
  "language_info": {
   "codemirror_mode": {
    "name": "ipython",
    "version": 3
   },
   "file_extension": ".py",
   "mimetype": "text/x-python",
   "name": "python",
   "nbconvert_exporter": "python",
   "pygments_lexer": "ipython3",
   "version": "3.13.5"
  }
 },
 "nbformat": 4,
 "nbformat_minor": 5
}
