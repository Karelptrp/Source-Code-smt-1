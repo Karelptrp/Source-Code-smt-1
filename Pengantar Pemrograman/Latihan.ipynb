{
 "cells": [
  {
   "cell_type": "code",
   "execution_count": 12,
   "id": "27482ca3",
   "metadata": {},
   "outputs": [
    {
     "name": "stdout",
     "output_type": "stream",
     "text": [
      "2\n"
     ]
    }
   ],
   "source": [
    "a=2\n",
    "A=\"variabel 2\" \n",
    "print(a)"
   ]
  },
  {
   "cell_type": "code",
   "execution_count": 20,
   "id": "c2b31168",
   "metadata": {},
   "outputs": [
    {
     "name": "stdout",
     "output_type": "stream",
     "text": [
      "Halo teman teman, perkenalkan nama saya Muhamad Kharel Putra Pradana dengan NIM 23090250017 Saya dari Bantar Gebang, Bekasi, Jawa Barat dan nim saya adalah 23090250017\n"
     ]
    }
   ],
   "source": [
    "Nama=\"Muhamad Kharel Putra Pradana\"\n",
    "Nim=\"23090250017\"\n",
    "Alamat=\"Bantar Gebang, Bekasi, Jawa Barat\"\n",
    "\n",
    "print(\"Halo teman teman, perkenalkan nama saya\", Nama, \"dengan NIM\",Nim, \"Saya dari\", Alamat, \"dan nim saya adalah\", Nim)"
   ]
  }
 ],
 "metadata": {
  "kernelspec": {
   "display_name": "base",
   "language": "python",
   "name": "python3"
  },
  "language_info": {
   "codemirror_mode": {
    "name": "ipython",
    "version": 3
   },
   "file_extension": ".py",
   "mimetype": "text/x-python",
   "name": "python",
   "nbconvert_exporter": "python",
   "pygments_lexer": "ipython3",
   "version": "3.13.5"
  }
 },
 "nbformat": 4,
 "nbformat_minor": 5
}
